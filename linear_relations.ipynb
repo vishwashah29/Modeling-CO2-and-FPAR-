{
 "cells": [
  {
   "cell_type": "code",
   "execution_count": 49,
   "metadata": {},
   "outputs": [],
   "source": [
    "import numpy as np\n",
    "import pandas as pd\n",
    "import os"
   ]
  },
  {
   "cell_type": "markdown",
   "metadata": {},
   "source": [
    "This is a regression model to figure out how FPAR and CO2 relate and visualized on the graph. For this model, we took other quantities such as NDVI and GPP along with FPAR.\n",
    "\n",
    "The dataset of FPAR, NDVI and GPP is taken from the Google Earth Engine and used the data from the tif image generated for \n",
    "01-01-2010 and its dimensions are mapped to the CO2 values which are taken from NASA GES DISC dataset. The CO2 values are kriged to the dimensions of the above quantites to map it to a particular pixel or point."
   ]
  },
  {
   "cell_type": "code",
   "execution_count": 50,
   "metadata": {},
   "outputs": [
    {
     "data": {
      "text/html": [
       "<div>\n",
       "<style scoped>\n",
       "    .dataframe tbody tr th:only-of-type {\n",
       "        vertical-align: middle;\n",
       "    }\n",
       "\n",
       "    .dataframe tbody tr th {\n",
       "        vertical-align: top;\n",
       "    }\n",
       "\n",
       "    .dataframe thead th {\n",
       "        text-align: right;\n",
       "    }\n",
       "</style>\n",
       "<table border=\"1\" class=\"dataframe\">\n",
       "  <thead>\n",
       "    <tr style=\"text-align: right;\">\n",
       "      <th></th>\n",
       "      <th>Unnamed: 0</th>\n",
       "      <th>longitude</th>\n",
       "      <th>latitude</th>\n",
       "      <th>co2</th>\n",
       "      <th>fpar</th>\n",
       "      <th>ndvi</th>\n",
       "      <th>gpp</th>\n",
       "    </tr>\n",
       "  </thead>\n",
       "  <tbody>\n",
       "    <tr>\n",
       "      <th>0</th>\n",
       "      <td>0</td>\n",
       "      <td>70.000000</td>\n",
       "      <td>22.0</td>\n",
       "      <td>387.998269</td>\n",
       "      <td>15.0</td>\n",
       "      <td>0.129136</td>\n",
       "      <td>39.0</td>\n",
       "    </tr>\n",
       "    <tr>\n",
       "      <th>1</th>\n",
       "      <td>1</td>\n",
       "      <td>70.006793</td>\n",
       "      <td>22.0</td>\n",
       "      <td>388.000619</td>\n",
       "      <td>16.0</td>\n",
       "      <td>0.140011</td>\n",
       "      <td>39.0</td>\n",
       "    </tr>\n",
       "    <tr>\n",
       "      <th>2</th>\n",
       "      <td>2</td>\n",
       "      <td>70.013587</td>\n",
       "      <td>22.0</td>\n",
       "      <td>388.002968</td>\n",
       "      <td>12.0</td>\n",
       "      <td>0.136313</td>\n",
       "      <td>33.0</td>\n",
       "    </tr>\n",
       "    <tr>\n",
       "      <th>3</th>\n",
       "      <td>3</td>\n",
       "      <td>70.020380</td>\n",
       "      <td>22.0</td>\n",
       "      <td>388.005315</td>\n",
       "      <td>15.0</td>\n",
       "      <td>0.131753</td>\n",
       "      <td>31.0</td>\n",
       "    </tr>\n",
       "    <tr>\n",
       "      <th>4</th>\n",
       "      <td>4</td>\n",
       "      <td>70.027174</td>\n",
       "      <td>22.0</td>\n",
       "      <td>388.007660</td>\n",
       "      <td>10.0</td>\n",
       "      <td>0.116916</td>\n",
       "      <td>31.0</td>\n",
       "    </tr>\n",
       "  </tbody>\n",
       "</table>\n",
       "</div>"
      ],
      "text/plain": [
       "   Unnamed: 0  longitude  latitude         co2  fpar      ndvi   gpp\n",
       "0           0  70.000000      22.0  387.998269  15.0  0.129136  39.0\n",
       "1           1  70.006793      22.0  388.000619  16.0  0.140011  39.0\n",
       "2           2  70.013587      22.0  388.002968  12.0  0.136313  33.0\n",
       "3           3  70.020380      22.0  388.005315  15.0  0.131753  31.0\n",
       "4           4  70.027174      22.0  388.007660  10.0  0.116916  31.0"
      ]
     },
     "execution_count": 50,
     "metadata": {},
     "output_type": "execute_result"
    }
   ],
   "source": [
    "df = pd.read_csv(r'final_values_ndvi_gpp_linear.csv')\n",
    "df.head()"
   ]
  },
  {
   "cell_type": "code",
   "execution_count": 51,
   "metadata": {},
   "outputs": [
    {
     "data": {
      "text/html": [
       "<div>\n",
       "<style scoped>\n",
       "    .dataframe tbody tr th:only-of-type {\n",
       "        vertical-align: middle;\n",
       "    }\n",
       "\n",
       "    .dataframe tbody tr th {\n",
       "        vertical-align: top;\n",
       "    }\n",
       "\n",
       "    .dataframe thead th {\n",
       "        text-align: right;\n",
       "    }\n",
       "</style>\n",
       "<table border=\"1\" class=\"dataframe\">\n",
       "  <thead>\n",
       "    <tr style=\"text-align: right;\">\n",
       "      <th></th>\n",
       "      <th>Unnamed: 0</th>\n",
       "      <th>longitude</th>\n",
       "      <th>latitude</th>\n",
       "      <th>co2</th>\n",
       "      <th>fpar</th>\n",
       "      <th>ndvi</th>\n",
       "      <th>gpp</th>\n",
       "    </tr>\n",
       "  </thead>\n",
       "  <tbody>\n",
       "    <tr>\n",
       "      <th>0</th>\n",
       "      <td>0</td>\n",
       "      <td>70.000000</td>\n",
       "      <td>22.0</td>\n",
       "      <td>387.998269</td>\n",
       "      <td>15.0</td>\n",
       "      <td>0.129136</td>\n",
       "      <td>39.0</td>\n",
       "    </tr>\n",
       "    <tr>\n",
       "      <th>1</th>\n",
       "      <td>1</td>\n",
       "      <td>70.006793</td>\n",
       "      <td>22.0</td>\n",
       "      <td>388.000619</td>\n",
       "      <td>16.0</td>\n",
       "      <td>0.140011</td>\n",
       "      <td>39.0</td>\n",
       "    </tr>\n",
       "    <tr>\n",
       "      <th>2</th>\n",
       "      <td>2</td>\n",
       "      <td>70.013587</td>\n",
       "      <td>22.0</td>\n",
       "      <td>388.002968</td>\n",
       "      <td>12.0</td>\n",
       "      <td>0.136313</td>\n",
       "      <td>33.0</td>\n",
       "    </tr>\n",
       "    <tr>\n",
       "      <th>3</th>\n",
       "      <td>3</td>\n",
       "      <td>70.020380</td>\n",
       "      <td>22.0</td>\n",
       "      <td>388.005315</td>\n",
       "      <td>15.0</td>\n",
       "      <td>0.131753</td>\n",
       "      <td>31.0</td>\n",
       "    </tr>\n",
       "    <tr>\n",
       "      <th>4</th>\n",
       "      <td>4</td>\n",
       "      <td>70.027174</td>\n",
       "      <td>22.0</td>\n",
       "      <td>388.007660</td>\n",
       "      <td>10.0</td>\n",
       "      <td>0.116916</td>\n",
       "      <td>31.0</td>\n",
       "    </tr>\n",
       "    <tr>\n",
       "      <th>...</th>\n",
       "      <td>...</td>\n",
       "      <td>...</td>\n",
       "      <td>...</td>\n",
       "      <td>...</td>\n",
       "      <td>...</td>\n",
       "      <td>...</td>\n",
       "      <td>...</td>\n",
       "    </tr>\n",
       "    <tr>\n",
       "      <th>289938</th>\n",
       "      <td>289938</td>\n",
       "      <td>74.972826</td>\n",
       "      <td>26.0</td>\n",
       "      <td>386.624549</td>\n",
       "      <td>56.0</td>\n",
       "      <td>0.621101</td>\n",
       "      <td>255.0</td>\n",
       "    </tr>\n",
       "    <tr>\n",
       "      <th>289939</th>\n",
       "      <td>289939</td>\n",
       "      <td>74.979620</td>\n",
       "      <td>26.0</td>\n",
       "      <td>386.623147</td>\n",
       "      <td>57.0</td>\n",
       "      <td>0.613845</td>\n",
       "      <td>265.0</td>\n",
       "    </tr>\n",
       "    <tr>\n",
       "      <th>289940</th>\n",
       "      <td>289940</td>\n",
       "      <td>74.986413</td>\n",
       "      <td>26.0</td>\n",
       "      <td>386.621757</td>\n",
       "      <td>57.0</td>\n",
       "      <td>0.585597</td>\n",
       "      <td>248.0</td>\n",
       "    </tr>\n",
       "    <tr>\n",
       "      <th>289941</th>\n",
       "      <td>289941</td>\n",
       "      <td>74.993207</td>\n",
       "      <td>26.0</td>\n",
       "      <td>386.620377</td>\n",
       "      <td>54.0</td>\n",
       "      <td>0.434974</td>\n",
       "      <td>192.0</td>\n",
       "    </tr>\n",
       "    <tr>\n",
       "      <th>289942</th>\n",
       "      <td>289942</td>\n",
       "      <td>75.000000</td>\n",
       "      <td>26.0</td>\n",
       "      <td>386.619009</td>\n",
       "      <td>48.0</td>\n",
       "      <td>0.363296</td>\n",
       "      <td>166.0</td>\n",
       "    </tr>\n",
       "  </tbody>\n",
       "</table>\n",
       "<p>289943 rows × 7 columns</p>\n",
       "</div>"
      ],
      "text/plain": [
       "        Unnamed: 0  longitude  latitude         co2  fpar      ndvi    gpp\n",
       "0                0  70.000000      22.0  387.998269  15.0  0.129136   39.0\n",
       "1                1  70.006793      22.0  388.000619  16.0  0.140011   39.0\n",
       "2                2  70.013587      22.0  388.002968  12.0  0.136313   33.0\n",
       "3                3  70.020380      22.0  388.005315  15.0  0.131753   31.0\n",
       "4                4  70.027174      22.0  388.007660  10.0  0.116916   31.0\n",
       "...            ...        ...       ...         ...   ...       ...    ...\n",
       "289938      289938  74.972826      26.0  386.624549  56.0  0.621101  255.0\n",
       "289939      289939  74.979620      26.0  386.623147  57.0  0.613845  265.0\n",
       "289940      289940  74.986413      26.0  386.621757  57.0  0.585597  248.0\n",
       "289941      289941  74.993207      26.0  386.620377  54.0  0.434974  192.0\n",
       "289942      289942  75.000000      26.0  386.619009  48.0  0.363296  166.0\n",
       "\n",
       "[289943 rows x 7 columns]"
      ]
     },
     "execution_count": 51,
     "metadata": {},
     "output_type": "execute_result"
    }
   ],
   "source": [
    "df"
   ]
  },
  {
   "cell_type": "code",
   "execution_count": 52,
   "metadata": {},
   "outputs": [],
   "source": [
    "from sklearn.model_selection import train_test_split\n",
    "import matplotlib.pyplot as plt"
   ]
  },
  {
   "cell_type": "markdown",
   "metadata": {},
   "source": [
    "Diving the data into a smaller subset"
   ]
  },
  {
   "cell_type": "code",
   "execution_count": 53,
   "metadata": {},
   "outputs": [],
   "source": [
    "frac_data = df.sample(frac=0.003)"
   ]
  },
  {
   "cell_type": "markdown",
   "metadata": {},
   "source": [
    "Finding the relation with the FPAR with NDVI from the fraction of the large dataset by linear regression"
   ]
  },
  {
   "cell_type": "code",
   "execution_count": 54,
   "metadata": {},
   "outputs": [],
   "source": [
    "from sklearn.linear_model import LinearRegression\n",
    "from sklearn.metrics import r2_score"
   ]
  },
  {
   "cell_type": "code",
   "execution_count": 55,
   "metadata": {},
   "outputs": [
    {
     "data": {
      "text/plain": [
       "LinearRegression(copy_X=True, fit_intercept=True, n_jobs=None, normalize=False)"
      ]
     },
     "execution_count": 55,
     "metadata": {},
     "output_type": "execute_result"
    }
   ],
   "source": [
    "y1 = frac_data['ndvi'].values.reshape(-1,1)\n",
    "x1 = frac_data['fpar'].values.reshape(-1,1)\n",
    "reg1 = LinearRegression()\n",
    "x1_train, x1_test, y1_train, y1_test = train_test_split(x1, y1, test_size=0.2)\n",
    "reg1.fit(x1_train, y1_train)"
   ]
  },
  {
   "cell_type": "code",
   "execution_count": 56,
   "metadata": {
    "scrolled": true
   },
   "outputs": [],
   "source": []
  },
  {
   "cell_type": "code",
   "execution_count": 57,
   "metadata": {
    "scrolled": true
   },
   "outputs": [
    {
     "data": {
      "image/png": "[encoded data removed]",
      "text/plain": [
       "<Figure size 432x288 with 1 Axes>"
      ]
     },
     "metadata": {
      "needs_background": "light"
     },
     "output_type": "display_data"
    }
   ],
   "source": [
    "plt.scatter(x1, y1, color='blue')\n",
    "plt.plot(x1_test, y1_pred, color='red')\n",
    "plt.xlabel('FPAR')\n",
    "plt.ylabel('NDVI')\n",
    "plt.show()"
   ]
  },
  {
   "cell_type": "code",
   "execution_count": 58,
   "metadata": {},
   "outputs": [
    {
     "data": {
      "text/plain": [
       "0.8525314830038925"
      ]
     },
     "execution_count": 58,
     "metadata": {},
     "output_type": "execute_result"
    }
   ],
   "source": [
    "r2_score(y1_test, y1_pred)"
   ]
  },
  {
   "cell_type": "markdown",
   "metadata": {},
   "source": [
    "The R2 score for the relation between FPAR and NDVI is around 0.85. So there is a linear relationship between both of them."
   ]
  },
  {
   "cell_type": "markdown",
   "metadata": {},
   "source": [
    "Similarly we get the results for FPAR and GPP"
   ]
  },
  {
   "cell_type": "code",
   "execution_count": 59,
   "metadata": {},
   "outputs": [
    {
     "data": {
      "text/plain": [
       "LinearRegression(copy_X=True, fit_intercept=True, n_jobs=None, normalize=False)"
      ]
     },
     "execution_count": 59,
     "metadata": {},
     "output_type": "execute_result"
    }
   ],
   "source": [
    "y2 = frac_data['gpp'].values.reshape(-1,1)\n",
    "x2 = frac_data['fpar'].values.reshape(-1,1)\n",
    "reg2 = LinearRegression()\n",
    "x2_train, x2_test, y2_train, y2_test = train_test_split(x2, y2, test_size=0.2)\n",
    "reg2.fit(x2_train, y2_train)"
   ]
  },
  {
   "cell_type": "code",
   "execution_count": 60,
   "metadata": {},
   "outputs": [],
   "source": [
    "y2_pred = reg2.predict(x2_test)"
   ]
  },
  {
   "cell_type": "code",
   "execution_count": 61,
   "metadata": {},
   "outputs": [
    {
     "data": {
      "image/png": "[encoded data removed]",
      "text/plain": [
       "<Figure size 432x288 with 1 Axes>"
      ]
     },
     "metadata": {
      "needs_background": "light"
     },
     "output_type": "display_data"
    }
   ],
   "source": [
    "plt.scatter(x2, y2, color='blue')\n",
    "plt.plot(x2_test, y2_pred, color='red')\n",
    "plt.xlabel('FPAR')\n",
    "plt.ylabel('GPP')\n",
    "plt.show()"
   ]
  },
  {
   "cell_type": "code",
   "execution_count": 62,
   "metadata": {},
   "outputs": [
    {
     "data": {
      "text/plain": [
       "0.8490399646212038"
      ]
     },
     "execution_count": 62,
     "metadata": {},
     "output_type": "execute_result"
    }
   ],
   "source": [
    "r2_score(y2_test, y2_pred)"
   ]
  },
  {
   "cell_type": "markdown",
   "metadata": {},
   "source": [
    "The R2 score is around 0.84 between FPAR and GPP.\n",
    "\n",
    "For relation between NDVI and GPP similarly we will get the linear relationship"
   ]
  },
  {
   "cell_type": "code",
   "execution_count": 63,
   "metadata": {},
   "outputs": [
    {
     "data": {
      "text/plain": [
       "LinearRegression(copy_X=True, fit_intercept=True, n_jobs=None, normalize=False)"
      ]
     },
     "execution_count": 63,
     "metadata": {},
     "output_type": "execute_result"
    }
   ],
   "source": [
    "y3 = frac_data['gpp'].values.reshape(-1,1)\n",
    "x3 = frac_data['ndvi'].values.reshape(-1,1)\n",
    "reg3 = LinearRegression()\n",
    "x3_train, x3_test, y3_train, y3_test = train_test_split(x3, y3, test_size=0.2)\n",
    "reg3.fit(x3_train, y3_train)"
   ]
  },
  {
   "cell_type": "code",
   "execution_count": 64,
   "metadata": {},
   "outputs": [],
   "source": [
    "y3_pred = reg3.predict(x3_test)"
   ]
  },
  {
   "cell_type": "code",
   "execution_count": 65,
   "metadata": {},
   "outputs": [
    {
     "data": {
      "image/png": "[encoded data removed]",
      "text/plain": [
       "<Figure size 432x288 with 1 Axes>"
      ]
     },
     "metadata": {
      "needs_background": "light"
     },
     "output_type": "display_data"
    }
   ],
   "source": [
    "plt.scatter(x3, y3, color='blue')\n",
    "plt.plot(x3_test, y3_pred, color='red')\n",
    "plt.xlabel('NDVI')\n",
    "plt.ylabel('GPP')\n",
    "plt.show()"
   ]
  },
  {
   "cell_type": "code",
   "execution_count": 66,
   "metadata": {},
   "outputs": [
    {
     "data": {
      "text/plain": [
       "0.9505401169537091"
      ]
     },
     "execution_count": 66,
     "metadata": {},
     "output_type": "execute_result"
    }
   ],
   "source": [
    "r2_score(y3_test, y3_pred)"
   ]
  },
  {
   "cell_type": "markdown",
   "metadata": {},
   "source": [
    "The R2 score between NDVI and GPP is around 0.95. So we can say all three quantities are linearly proportional to one another."
   ]
  },
  {
   "cell_type": "markdown",
   "metadata": {},
   "source": [
    "So we can make use of these three quantites together to find the relation with CO2 in the atmosphere to get better results.\n",
    "\n",
    "Using these three quantites to find the CO2 relation"
   ]
  },
  {
   "cell_type": "code",
   "execution_count": 70,
   "metadata": {},
   "outputs": [],
   "source": [
    "y = frac_data['co2']\n",
    "x = frac_data[['fpar', 'ndvi', 'gpp']]"
   ]
  },
  {
   "cell_type": "code",
   "execution_count": 71,
   "metadata": {},
   "outputs": [],
   "source": [
    "reg = LinearRegression()\n",
    "x_train, x_test, y_train, y_test = train_test_split(x, y, test_size=0.1)\n",
    "reg.fit(x_train, y_train)\n",
    "y_pred = reg.predict(x_test)"
   ]
  },
  {
   "cell_type": "code",
   "execution_count": 4,
   "metadata": {},
   "outputs": [
    {
     "ename": "NameError",
     "evalue": "name 'reg' is not defined",
     "output_type": "error",
     "traceback": [
      "\u001b[1;31m---------------------------------------------------------------------------\u001b[0m",
      "\u001b[1;31mNameError\u001b[0m                                 Traceback (most recent call last)",
      "\u001b[1;32m<ipython-input-4-9c2079b7841f>\u001b[0m in \u001b[0;36m<module>\u001b[1;34m\u001b[0m\n\u001b[1;32m----> 1\u001b[1;33m \u001b[0mreg\u001b[0m\u001b[1;33m.\u001b[0m\u001b[0mscore\u001b[0m\u001b[1;33m(\u001b[0m\u001b[0my_test\u001b[0m\u001b[1;33m,\u001b[0m\u001b[0my_pred\u001b[0m\u001b[1;33m)\u001b[0m\u001b[1;33m\u001b[0m\u001b[1;33m\u001b[0m\u001b[0m\n\u001b[0m",
      "\u001b[1;31mNameError\u001b[0m: name 'reg' is not defined"
     ]
    }
   ],
   "source": [
    "reg.score(y_test,y_pred)"
   ]
  },
  {
   "cell_type": "code",
   "execution_count": 76,
   "metadata": {},
   "outputs": [
    {
     "data": {
      "image/png": "[encoded data removed]",
      "text/plain": [
       "<Figure size 432x288 with 1 Axes>"
      ]
     },
     "metadata": {
      "needs_background": "light"
     },
     "output_type": "display_data"
    }
   ],
   "source": [
    "plt.scatter(x['fpar'], y, color='green')\n",
    "#plt.plot(x_test['fpar'], y_pred, color='red')\n",
    "plt.xlabel('FPAR')\n",
    "plt.ylabel('CO2')\n",
    "plt.show()"
   ]
  },
  {
   "cell_type": "markdown",
   "metadata": {},
   "source": [
    "We can see that there are more points on the upper left corner of the graph where the value of FPAR is small and for CO2 in ppm is more. So the general trend observed is that as the value of FPAR increase, there is decrease in the value if CO2.\n",
    "\n",
    "The R2 for the multivariate regression model is 0.32 approx.\n",
    "\n",
    "So the relationship doesn't seem to be linear as there are many exceptions to these general trend which is observed in the graph. One of the main factors contributing to this is that the model does not take the factors such as industrial output, livestock related and other human influences which contribute to the amount of CO2 in the atmosphere as the model uses FPAR, GPP and NDVI only.\n",
    "\n",
    "These should be one of the reasons for the anomalies that can be seen in the above graph."
   ]
  }
 ],
 "metadata": {
  "kernelspec": {
   "display_name": "Python 3",
   "language": "python",
   "name": "python3"
  },
  "language_info": {
   "codemirror_mode": {
    "name": "ipython",
    "version": 3
   },
   "file_extension": ".py",
   "mimetype": "text/x-python",
   "name": "python",
   "nbconvert_exporter": "python",
   "pygments_lexer": "ipython3",
   "version": "3.7.1"
  }
 },
 "nbformat": 4,
 "nbformat_minor": 4
}
